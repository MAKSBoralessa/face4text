{
 "cells": [
  {
   "cell_type": "markdown",
   "metadata": {},
   "source": [
    "# face4text \n",
    "### Search a zipfile of images to find which images contain the input text and detect faces in that image\n",
    "#### We use tesseract and opencv for the task. The images should be stored in a zip file\n"
   ]
  },
  {
   "cell_type": "code",
   "execution_count": null,
   "metadata": {},
   "outputs": [],
   "source": [
    "import pytesseract\n",
    "from PIL import Image\n",
    "import cv2 as cv\n",
    "import numpy as np\n",
    "import zipfile"
   ]
  },
  {
   "cell_type": "code",
   "execution_count": null,
   "metadata": {},
   "outputs": [],
   "source": [
    "#Test\n",
    "print(pytesseract.image_to_string(Image.open('a-0.png')))"
   ]
  },
  {
   "cell_type": "code",
   "execution_count": null,
   "metadata": {},
   "outputs": [],
   "source": [
    "# loading the face detection classifier\n",
    "face_cascade = cv.CascadeClassifier(cv.data.haarcascades + 'haarcascade_frontalface_default.xml')"
   ]
  },
  {
   "cell_type": "markdown",
   "metadata": {},
   "source": [
    "#### Replace 'images.zip' with your zipfile location"
   ]
  },
  {
   "cell_type": "code",
   "execution_count": null,
   "metadata": {},
   "outputs": [],
   "source": [
    "#Create data[] by doing OCR\n",
    "def create_data_list():\n",
    "    with zipfile.ZipFile('images.zip') as zf:\n",
    "        for entry in zf.infolist():\n",
    "            with zf.open(entry) as file:\n",
    "                print(\"Loading Page\")\n",
    "\n",
    "                image = Image.open(file)\n",
    "                image_data = {}\n",
    "\n",
    "                #Storing the color image in image_data{}\n",
    "                image_data['image'] = image\n",
    "                image = image.convert('1')\n",
    "                new_size = (int(image.width*2), int(image.height*2))\n",
    "                image = image.resize(new_size, Image.ANTIALIAS)\n",
    "\n",
    "                #OCR\n",
    "\n",
    "                print(\"Doing OCR\")\n",
    "                text = pytesseract.image_to_string(image)\n",
    "                image_data['text'] = text\n",
    "\n",
    "                data.append(image_data)"
   ]
  },
  {
   "cell_type": "code",
   "execution_count": null,
   "metadata": {},
   "outputs": [],
   "source": [
    "#Test\n",
    "create_data_list()\n",
    "print(data[0]['image'])"
   ]
  },
  {
   "cell_type": "code",
   "execution_count": null,
   "metadata": {},
   "outputs": [],
   "source": [
    "#Do face detection and generate the faces list of an image\n",
    "def generate_faces_list(pil_image):\n",
    "    #Return a list of cropped faces when PIL image is passed\n",
    "    pil_image_ref = pil_image\n",
    "    ocv_image = np.array(pil_image)\n",
    "    \n",
    "    gray = cv.cvtColor(ocv_image, cv.COLOR_BGR2GRAY)\n",
    "    print(gray)\n",
    "    faces = face_cascade.detectMultiScale(gray, minNeighbors=15)\n",
    "    print('face detection done...')\n",
    "    \n",
    "    \n",
    "    cropped_faces = []\n",
    "\n",
    "    for x,y,w,h in faces:\n",
    "        cropped_faces.append(pil_image_ref.crop((x,y,x+w,y+h)))\n",
    "    \n",
    "    return cropped_faces"
   ]
  },
  {
   "cell_type": "code",
   "execution_count": null,
   "metadata": {},
   "outputs": [],
   "source": [
    "#Return a list of page numbers where the text contains the string that is passed\n",
    "def find_pages_text(text):\n",
    "     \n",
    "    page_num = []\n",
    "    \n",
    "    for x in range(len(data)):\n",
    "        print(\"checking page {}\".format(x))\n",
    "        if text in data[x]['text']:\n",
    "            page_num.append(x)\n",
    "            \n",
    "    return page_num"
   ]
  },
  {
   "cell_type": "code",
   "execution_count": null,
   "metadata": {},
   "outputs": [],
   "source": [
    "#Display the faces\n",
    "def display_faces(faces):\n",
    "    #Display the faces as a single image\n",
    "    thumb_size = (100,100)\n",
    "    thumbnails = []\n",
    "    if faces == []:\n",
    "        print(\"But there were no faces in that file!\")\n",
    "    else:\n",
    "        for image in faces:\n",
    "            image.thumbnail(thumb_size)\n",
    "            thumbnails.append(image)\n",
    "\n",
    "        first_image = thumbnails[0]\n",
    "        rows = len(thumbnails)/5+1\n",
    "        contact_sheet = Image.new(first_image.mode, (first_image.width*5,int(first_image.height*rows)))\n",
    "        \n",
    "        x = 0\n",
    "        y = 0\n",
    "        \n",
    "        for img in thumbnails:\n",
    "            contact_sheet.paste(img, (x, y) )\n",
    "        \n",
    "            if x+first_image.width == contact_sheet.width:\n",
    "                x=0\n",
    "                y=y+first_image.height\n",
    "            else:\n",
    "                x=x+first_image.width\n",
    "        display(contact_sheet)"
   ]
  },
  {
   "cell_type": "code",
   "execution_count": null,
   "metadata": {},
   "outputs": [],
   "source": [
    "#Main \n",
    "\n",
    "#Data - List of Dicts [{'image':<image>, 'text':'text'}]\n",
    "data = []\n",
    "\n",
    "search_text = input(\"Enter Text :\") #Input the Text to search for\n",
    "\n",
    "create_data_list()"
   ]
  },
  {
   "cell_type": "code",
   "execution_count": null,
   "metadata": {},
   "outputs": [],
   "source": [
    "#Test\n",
    "print(data[0]['image'])"
   ]
  },
  {
   "cell_type": "code",
   "execution_count": null,
   "metadata": {},
   "outputs": [],
   "source": [
    "pages_to_face_detection = find_pages_text(search_text)"
   ]
  },
  {
   "cell_type": "code",
   "execution_count": null,
   "metadata": {},
   "outputs": [],
   "source": [
    "#Test\n",
    "print(pages_to_face_detection)"
   ]
  },
  {
   "cell_type": "code",
   "execution_count": null,
   "metadata": {},
   "outputs": [],
   "source": [
    "for x in pages_to_face_detection:\n",
    "    print('Results found in file a-{}.png'.format(x))\n",
    "    faces = []\n",
    "    for image in generate_faces_list(data[x]['image']):\n",
    "        faces.append(image)\n",
    "            \n",
    "    display_faces(faces)"
   ]
  }
 ],
 "metadata": {
  "kernelspec": {
   "display_name": "Python 3",
   "language": "python",
   "name": "python3"
  },
  "language_info": {
   "codemirror_mode": {
    "name": "ipython",
    "version": 3
   },
   "file_extension": ".py",
   "mimetype": "text/x-python",
   "name": "python",
   "nbconvert_exporter": "python",
   "pygments_lexer": "ipython3",
   "version": "3.7.6"
  }
 },
 "nbformat": 4,
 "nbformat_minor": 4
}
